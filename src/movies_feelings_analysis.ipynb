{
 "cells": [
  {
   "cell_type": "markdown",
   "id": "640db751",
   "metadata": {},
   "source": [
    "# Movies feelings analysis"
   ]
  },
  {
   "cell_type": "markdown",
   "id": "18023eb1",
   "metadata": {},
   "source": [
    "## Importando bibliotecas"
   ]
  },
  {
   "cell_type": "code",
   "execution_count": null,
   "id": "6017331e",
   "metadata": {},
   "outputs": [],
   "source": [
    "from datetime import datetime\n",
    "import pandas as pd\n",
    "import numpy as np\n",
    "import seaborn as sns\n",
    "import matplotlib.pyplot as plt"
   ]
  }
 ],
 "metadata": {
  "language_info": {
   "name": "python"
  }
 },
 "nbformat": 4,
 "nbformat_minor": 5
}
