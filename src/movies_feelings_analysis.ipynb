{
  "cells": [
    {
      "cell_type": "markdown",
      "id": "640db751",
      "metadata": {
        "id": "640db751"
      },
      "source": [
        "# Movies feelings analysis"
      ]
    },
    {
      "cell_type": "markdown",
      "id": "18023eb1",
      "metadata": {
        "id": "18023eb1"
      },
      "source": [
        "## Importando bibliotecas"
      ]
    },
    {
      "cell_type": "code",
      "execution_count": 3,
      "id": "6017331e",
      "metadata": {
        "colab": {
          "base_uri": "https://localhost:8080/"
        },
        "id": "6017331e",
        "outputId": "a7dbba2d-a5c7-469f-9af5-c2ff86fcd76f"
      },
      "outputs": [
        {
          "output_type": "stream",
          "name": "stderr",
          "text": [
            "[nltk_data] Downloading package stopwords to /root/nltk_data...\n",
            "[nltk_data]   Package stopwords is already up-to-date!\n"
          ]
        }
      ],
      "source": [
        "# === 1) Imports & setup ===\n",
        "import os, re, random\n",
        "import pandas as pd, numpy as np, matplotlib.pyplot as plt, seaborn as sns\n",
        "import nltk; nltk.download('stopwords')\n",
        "from nltk.corpus import stopwords\n",
        "sns.set_theme()  # estilo visual do seaborn\n",
        "\n",
        "RANDOM_STATE = 42\n",
        "random.seed(RANDOM_STATE)\n",
        "np.random.seed(RANDOM_STATE)"
      ]
    },
    {
      "cell_type": "code",
      "source": [
        "# Pastas para salvar saídas\n",
        "os.makedirs('reports', exist_ok=True)"
      ],
      "metadata": {
        "id": "Sja7iwejo3OP"
      },
      "id": "Sja7iwejo3OP",
      "execution_count": 4,
      "outputs": []
    },
    {
      "cell_type": "code",
      "source": [
        "\n",
        "# Carregar dados\n",
        "df = pd.read_csv('/content/imdb_dataset.csv')\n",
        "df = df.rename(columns={'review': 'text', 'sentiment': 'label'})\n"
      ],
      "metadata": {
        "id": "P_bgPx28lmK-"
      },
      "id": "P_bgPx28lmK-",
      "execution_count": 12,
      "outputs": []
    },
    {
      "cell_type": "code",
      "source": [
        "# === 3) Sanidade básica ===\n",
        "print(\"Formato:\", df.shape)\n",
        "print(df.head(3))\n",
        "print(\"Nulos por coluna:\\n\", df.isna().sum())\n"
      ],
      "metadata": {
        "colab": {
          "base_uri": "https://localhost:8080/"
        },
        "id": "aSydu8bLo91d",
        "outputId": "c95d2ef5-e39a-44d6-cce5-7850dc59154c"
      },
      "id": "aSydu8bLo91d",
      "execution_count": 13,
      "outputs": [
        {
          "output_type": "stream",
          "name": "stdout",
          "text": [
            "Formato: (50000, 2)\n",
            "                                                text     label\n",
            "0  One of the other reviewers has mentioned that ...  positive\n",
            "1  A wonderful little production. <br /><br />The...  positive\n",
            "2  I thought this was a wonderful way to spend ti...  positive\n",
            "Nulos por coluna:\n",
            " text     0\n",
            "label    0\n",
            "dtype: int64\n"
          ]
        }
      ]
    },
    {
      "cell_type": "code",
      "source": [
        "# Procuramos por duplicatas exatas (texto, label) e imprimimos alguns exemplos\n",
        "\n",
        "before = len(df)\n",
        "dups_exact = df.duplicated(subset=['text','label'], keep=False)\n",
        "print(\"Duplicatas exatas (text+label):\", dups_exact.sum())\n",
        "\n",
        "# Amostra de 5 pares (mesmo text+label)\n",
        "ex_dups = (df.loc[dups_exact, ['text','label']]\n",
        "             .groupby(['text','label'])\n",
        "             .head(2)  # mostra duas ocorrências\n",
        "             .head(10))  # limita linhas exibidas\n",
        "\n",
        "# Trunca os textos para visualizar melhor\n",
        "ex_dups_display = ex_dups.copy()\n",
        "ex_dups_display['text'] = ex_dups_display['text'].str.slice(0, 220)\n",
        "ex_dups_display"
      ],
      "metadata": {
        "colab": {
          "base_uri": "https://localhost:8080/",
          "height": 380
        },
        "id": "NCSa4_fsrqA4",
        "outputId": "58600a1e-f3ad-40e6-890b-f3ff651eab15"
      },
      "id": "NCSa4_fsrqA4",
      "execution_count": 14,
      "outputs": [
        {
          "output_type": "stream",
          "name": "stdout",
          "text": [
            "Duplicatas exatas (text+label): 824\n"
          ]
        },
        {
          "output_type": "execute_result",
          "data": {
            "text/plain": [
              "                                                  text     label\n",
              "42   Of all the films I have seen, this one, The Ra...  negative\n",
              "84   We brought this film as a joke for a friend, a...  negative\n",
              "140  Before I begin, let me get something off my ch...  negative\n",
              "219  Ed Wood rides again. The fact that this movie ...  negative\n",
              "245  I have seen this film at least 100 times and I...  positive\n",
              "480  From director Barbet Schroder (Reversal of For...  negative\n",
              "513  The story and the show were good, but it was r...  negative\n",
              "636  I rented this thinking it would be pretty good...  negative\n",
              "638  This movie has everything typical horror movie...  positive\n",
              "701  I Enjoyed Watching This Well Acted Movie Very ...  positive"
            ],
            "text/html": [
              "\n",
              "  <div id=\"df-afcfffb3-8ff6-44fc-8b46-478d5b548d57\" class=\"colab-df-container\">\n",
              "    <div>\n",
              "<style scoped>\n",
              "    .dataframe tbody tr th:only-of-type {\n",
              "        vertical-align: middle;\n",
              "    }\n",
              "\n",
              "    .dataframe tbody tr th {\n",
              "        vertical-align: top;\n",
              "    }\n",
              "\n",
              "    .dataframe thead th {\n",
              "        text-align: right;\n",
              "    }\n",
              "</style>\n",
              "<table border=\"1\" class=\"dataframe\">\n",
              "  <thead>\n",
              "    <tr style=\"text-align: right;\">\n",
              "      <th></th>\n",
              "      <th>text</th>\n",
              "      <th>label</th>\n",
              "    </tr>\n",
              "  </thead>\n",
              "  <tbody>\n",
              "    <tr>\n",
              "      <th>42</th>\n",
              "      <td>Of all the films I have seen, this one, The Ra...</td>\n",
              "      <td>negative</td>\n",
              "    </tr>\n",
              "    <tr>\n",
              "      <th>84</th>\n",
              "      <td>We brought this film as a joke for a friend, a...</td>\n",
              "      <td>negative</td>\n",
              "    </tr>\n",
              "    <tr>\n",
              "      <th>140</th>\n",
              "      <td>Before I begin, let me get something off my ch...</td>\n",
              "      <td>negative</td>\n",
              "    </tr>\n",
              "    <tr>\n",
              "      <th>219</th>\n",
              "      <td>Ed Wood rides again. The fact that this movie ...</td>\n",
              "      <td>negative</td>\n",
              "    </tr>\n",
              "    <tr>\n",
              "      <th>245</th>\n",
              "      <td>I have seen this film at least 100 times and I...</td>\n",
              "      <td>positive</td>\n",
              "    </tr>\n",
              "    <tr>\n",
              "      <th>480</th>\n",
              "      <td>From director Barbet Schroder (Reversal of For...</td>\n",
              "      <td>negative</td>\n",
              "    </tr>\n",
              "    <tr>\n",
              "      <th>513</th>\n",
              "      <td>The story and the show were good, but it was r...</td>\n",
              "      <td>negative</td>\n",
              "    </tr>\n",
              "    <tr>\n",
              "      <th>636</th>\n",
              "      <td>I rented this thinking it would be pretty good...</td>\n",
              "      <td>negative</td>\n",
              "    </tr>\n",
              "    <tr>\n",
              "      <th>638</th>\n",
              "      <td>This movie has everything typical horror movie...</td>\n",
              "      <td>positive</td>\n",
              "    </tr>\n",
              "    <tr>\n",
              "      <th>701</th>\n",
              "      <td>I Enjoyed Watching This Well Acted Movie Very ...</td>\n",
              "      <td>positive</td>\n",
              "    </tr>\n",
              "  </tbody>\n",
              "</table>\n",
              "</div>\n",
              "    <div class=\"colab-df-buttons\">\n",
              "\n",
              "  <div class=\"colab-df-container\">\n",
              "    <button class=\"colab-df-convert\" onclick=\"convertToInteractive('df-afcfffb3-8ff6-44fc-8b46-478d5b548d57')\"\n",
              "            title=\"Convert this dataframe to an interactive table.\"\n",
              "            style=\"display:none;\">\n",
              "\n",
              "  <svg xmlns=\"http://www.w3.org/2000/svg\" height=\"24px\" viewBox=\"0 -960 960 960\">\n",
              "    <path d=\"M120-120v-720h720v720H120Zm60-500h600v-160H180v160Zm220 220h160v-160H400v160Zm0 220h160v-160H400v160ZM180-400h160v-160H180v160Zm440 0h160v-160H620v160ZM180-180h160v-160H180v160Zm440 0h160v-160H620v160Z\"/>\n",
              "  </svg>\n",
              "    </button>\n",
              "\n",
              "  <style>\n",
              "    .colab-df-container {\n",
              "      display:flex;\n",
              "      gap: 12px;\n",
              "    }\n",
              "\n",
              "    .colab-df-convert {\n",
              "      background-color: #E8F0FE;\n",
              "      border: none;\n",
              "      border-radius: 50%;\n",
              "      cursor: pointer;\n",
              "      display: none;\n",
              "      fill: #1967D2;\n",
              "      height: 32px;\n",
              "      padding: 0 0 0 0;\n",
              "      width: 32px;\n",
              "    }\n",
              "\n",
              "    .colab-df-convert:hover {\n",
              "      background-color: #E2EBFA;\n",
              "      box-shadow: 0px 1px 2px rgba(60, 64, 67, 0.3), 0px 1px 3px 1px rgba(60, 64, 67, 0.15);\n",
              "      fill: #174EA6;\n",
              "    }\n",
              "\n",
              "    .colab-df-buttons div {\n",
              "      margin-bottom: 4px;\n",
              "    }\n",
              "\n",
              "    [theme=dark] .colab-df-convert {\n",
              "      background-color: #3B4455;\n",
              "      fill: #D2E3FC;\n",
              "    }\n",
              "\n",
              "    [theme=dark] .colab-df-convert:hover {\n",
              "      background-color: #434B5C;\n",
              "      box-shadow: 0px 1px 3px 1px rgba(0, 0, 0, 0.15);\n",
              "      filter: drop-shadow(0px 1px 2px rgba(0, 0, 0, 0.3));\n",
              "      fill: #FFFFFF;\n",
              "    }\n",
              "  </style>\n",
              "\n",
              "    <script>\n",
              "      const buttonEl =\n",
              "        document.querySelector('#df-afcfffb3-8ff6-44fc-8b46-478d5b548d57 button.colab-df-convert');\n",
              "      buttonEl.style.display =\n",
              "        google.colab.kernel.accessAllowed ? 'block' : 'none';\n",
              "\n",
              "      async function convertToInteractive(key) {\n",
              "        const element = document.querySelector('#df-afcfffb3-8ff6-44fc-8b46-478d5b548d57');\n",
              "        const dataTable =\n",
              "          await google.colab.kernel.invokeFunction('convertToInteractive',\n",
              "                                                    [key], {});\n",
              "        if (!dataTable) return;\n",
              "\n",
              "        const docLinkHtml = 'Like what you see? Visit the ' +\n",
              "          '<a target=\"_blank\" href=https://colab.research.google.com/notebooks/data_table.ipynb>data table notebook</a>'\n",
              "          + ' to learn more about interactive tables.';\n",
              "        element.innerHTML = '';\n",
              "        dataTable['output_type'] = 'display_data';\n",
              "        await google.colab.output.renderOutput(dataTable, element);\n",
              "        const docLink = document.createElement('div');\n",
              "        docLink.innerHTML = docLinkHtml;\n",
              "        element.appendChild(docLink);\n",
              "      }\n",
              "    </script>\n",
              "  </div>\n",
              "\n",
              "\n",
              "    <div id=\"df-158fe0b5-f625-40fc-b658-d64d4b55a3eb\">\n",
              "      <button class=\"colab-df-quickchart\" onclick=\"quickchart('df-158fe0b5-f625-40fc-b658-d64d4b55a3eb')\"\n",
              "                title=\"Suggest charts\"\n",
              "                style=\"display:none;\">\n",
              "\n",
              "<svg xmlns=\"http://www.w3.org/2000/svg\" height=\"24px\"viewBox=\"0 0 24 24\"\n",
              "     width=\"24px\">\n",
              "    <g>\n",
              "        <path d=\"M19 3H5c-1.1 0-2 .9-2 2v14c0 1.1.9 2 2 2h14c1.1 0 2-.9 2-2V5c0-1.1-.9-2-2-2zM9 17H7v-7h2v7zm4 0h-2V7h2v10zm4 0h-2v-4h2v4z\"/>\n",
              "    </g>\n",
              "</svg>\n",
              "      </button>\n",
              "\n",
              "<style>\n",
              "  .colab-df-quickchart {\n",
              "      --bg-color: #E8F0FE;\n",
              "      --fill-color: #1967D2;\n",
              "      --hover-bg-color: #E2EBFA;\n",
              "      --hover-fill-color: #174EA6;\n",
              "      --disabled-fill-color: #AAA;\n",
              "      --disabled-bg-color: #DDD;\n",
              "  }\n",
              "\n",
              "  [theme=dark] .colab-df-quickchart {\n",
              "      --bg-color: #3B4455;\n",
              "      --fill-color: #D2E3FC;\n",
              "      --hover-bg-color: #434B5C;\n",
              "      --hover-fill-color: #FFFFFF;\n",
              "      --disabled-bg-color: #3B4455;\n",
              "      --disabled-fill-color: #666;\n",
              "  }\n",
              "\n",
              "  .colab-df-quickchart {\n",
              "    background-color: var(--bg-color);\n",
              "    border: none;\n",
              "    border-radius: 50%;\n",
              "    cursor: pointer;\n",
              "    display: none;\n",
              "    fill: var(--fill-color);\n",
              "    height: 32px;\n",
              "    padding: 0;\n",
              "    width: 32px;\n",
              "  }\n",
              "\n",
              "  .colab-df-quickchart:hover {\n",
              "    background-color: var(--hover-bg-color);\n",
              "    box-shadow: 0 1px 2px rgba(60, 64, 67, 0.3), 0 1px 3px 1px rgba(60, 64, 67, 0.15);\n",
              "    fill: var(--button-hover-fill-color);\n",
              "  }\n",
              "\n",
              "  .colab-df-quickchart-complete:disabled,\n",
              "  .colab-df-quickchart-complete:disabled:hover {\n",
              "    background-color: var(--disabled-bg-color);\n",
              "    fill: var(--disabled-fill-color);\n",
              "    box-shadow: none;\n",
              "  }\n",
              "\n",
              "  .colab-df-spinner {\n",
              "    border: 2px solid var(--fill-color);\n",
              "    border-color: transparent;\n",
              "    border-bottom-color: var(--fill-color);\n",
              "    animation:\n",
              "      spin 1s steps(1) infinite;\n",
              "  }\n",
              "\n",
              "  @keyframes spin {\n",
              "    0% {\n",
              "      border-color: transparent;\n",
              "      border-bottom-color: var(--fill-color);\n",
              "      border-left-color: var(--fill-color);\n",
              "    }\n",
              "    20% {\n",
              "      border-color: transparent;\n",
              "      border-left-color: var(--fill-color);\n",
              "      border-top-color: var(--fill-color);\n",
              "    }\n",
              "    30% {\n",
              "      border-color: transparent;\n",
              "      border-left-color: var(--fill-color);\n",
              "      border-top-color: var(--fill-color);\n",
              "      border-right-color: var(--fill-color);\n",
              "    }\n",
              "    40% {\n",
              "      border-color: transparent;\n",
              "      border-right-color: var(--fill-color);\n",
              "      border-top-color: var(--fill-color);\n",
              "    }\n",
              "    60% {\n",
              "      border-color: transparent;\n",
              "      border-right-color: var(--fill-color);\n",
              "    }\n",
              "    80% {\n",
              "      border-color: transparent;\n",
              "      border-right-color: var(--fill-color);\n",
              "      border-bottom-color: var(--fill-color);\n",
              "    }\n",
              "    90% {\n",
              "      border-color: transparent;\n",
              "      border-bottom-color: var(--fill-color);\n",
              "    }\n",
              "  }\n",
              "</style>\n",
              "\n",
              "      <script>\n",
              "        async function quickchart(key) {\n",
              "          const quickchartButtonEl =\n",
              "            document.querySelector('#' + key + ' button');\n",
              "          quickchartButtonEl.disabled = true;  // To prevent multiple clicks.\n",
              "          quickchartButtonEl.classList.add('colab-df-spinner');\n",
              "          try {\n",
              "            const charts = await google.colab.kernel.invokeFunction(\n",
              "                'suggestCharts', [key], {});\n",
              "          } catch (error) {\n",
              "            console.error('Error during call to suggestCharts:', error);\n",
              "          }\n",
              "          quickchartButtonEl.classList.remove('colab-df-spinner');\n",
              "          quickchartButtonEl.classList.add('colab-df-quickchart-complete');\n",
              "        }\n",
              "        (() => {\n",
              "          let quickchartButtonEl =\n",
              "            document.querySelector('#df-158fe0b5-f625-40fc-b658-d64d4b55a3eb button');\n",
              "          quickchartButtonEl.style.display =\n",
              "            google.colab.kernel.accessAllowed ? 'block' : 'none';\n",
              "        })();\n",
              "      </script>\n",
              "    </div>\n",
              "\n",
              "  <div id=\"id_47c2f2d2-4692-45f9-a3ac-a529e02371e9\">\n",
              "    <style>\n",
              "      .colab-df-generate {\n",
              "        background-color: #E8F0FE;\n",
              "        border: none;\n",
              "        border-radius: 50%;\n",
              "        cursor: pointer;\n",
              "        display: none;\n",
              "        fill: #1967D2;\n",
              "        height: 32px;\n",
              "        padding: 0 0 0 0;\n",
              "        width: 32px;\n",
              "      }\n",
              "\n",
              "      .colab-df-generate:hover {\n",
              "        background-color: #E2EBFA;\n",
              "        box-shadow: 0px 1px 2px rgba(60, 64, 67, 0.3), 0px 1px 3px 1px rgba(60, 64, 67, 0.15);\n",
              "        fill: #174EA6;\n",
              "      }\n",
              "\n",
              "      [theme=dark] .colab-df-generate {\n",
              "        background-color: #3B4455;\n",
              "        fill: #D2E3FC;\n",
              "      }\n",
              "\n",
              "      [theme=dark] .colab-df-generate:hover {\n",
              "        background-color: #434B5C;\n",
              "        box-shadow: 0px 1px 3px 1px rgba(0, 0, 0, 0.15);\n",
              "        filter: drop-shadow(0px 1px 2px rgba(0, 0, 0, 0.3));\n",
              "        fill: #FFFFFF;\n",
              "      }\n",
              "    </style>\n",
              "    <button class=\"colab-df-generate\" onclick=\"generateWithVariable('ex_dups_display')\"\n",
              "            title=\"Generate code using this dataframe.\"\n",
              "            style=\"display:none;\">\n",
              "\n",
              "  <svg xmlns=\"http://www.w3.org/2000/svg\" height=\"24px\"viewBox=\"0 0 24 24\"\n",
              "       width=\"24px\">\n",
              "    <path d=\"M7,19H8.4L18.45,9,17,7.55,7,17.6ZM5,21V16.75L18.45,3.32a2,2,0,0,1,2.83,0l1.4,1.43a1.91,1.91,0,0,1,.58,1.4,1.91,1.91,0,0,1-.58,1.4L9.25,21ZM18.45,9,17,7.55Zm-12,3A5.31,5.31,0,0,0,4.9,8.1,5.31,5.31,0,0,0,1,6.5,5.31,5.31,0,0,0,4.9,4.9,5.31,5.31,0,0,0,6.5,1,5.31,5.31,0,0,0,8.1,4.9,5.31,5.31,0,0,0,12,6.5,5.46,5.46,0,0,0,6.5,12Z\"/>\n",
              "  </svg>\n",
              "    </button>\n",
              "    <script>\n",
              "      (() => {\n",
              "      const buttonEl =\n",
              "        document.querySelector('#id_47c2f2d2-4692-45f9-a3ac-a529e02371e9 button.colab-df-generate');\n",
              "      buttonEl.style.display =\n",
              "        google.colab.kernel.accessAllowed ? 'block' : 'none';\n",
              "\n",
              "      buttonEl.onclick = () => {\n",
              "        google.colab.notebook.generateWithVariable('ex_dups_display');\n",
              "      }\n",
              "      })();\n",
              "    </script>\n",
              "  </div>\n",
              "\n",
              "    </div>\n",
              "  </div>\n"
            ],
            "application/vnd.google.colaboratory.intrinsic+json": {
              "type": "dataframe",
              "variable_name": "ex_dups_display",
              "summary": "{\n  \"name\": \"ex_dups_display\",\n  \"rows\": 10,\n  \"fields\": [\n    {\n      \"column\": \"text\",\n      \"properties\": {\n        \"dtype\": \"string\",\n        \"num_unique_values\": 10,\n        \"samples\": [\n          \"This movie has everything typical horror movies lack. Although some things are far fetched we are dealing with quality snow man engineers. The only preview i can reveal is that i cant wait for Jackzilla. Dare i say oscar\",\n          \"We brought this film as a joke for a friend, and could of been our worst joke to play. The film is barely watchable, and the acting is dire. The worst child actor ever used and Hasslehoff giving a substandard performance\",\n          \"From director Barbet Schroder (Reversal of Fortune), I think I saw a bit of this in my Media Studies class, and I recognised the leading actress, so I tried it, despite the rating by the critics. Basically cool kid Richa\"\n        ],\n        \"semantic_type\": \"\",\n        \"description\": \"\"\n      }\n    },\n    {\n      \"column\": \"label\",\n      \"properties\": {\n        \"dtype\": \"category\",\n        \"num_unique_values\": 2,\n        \"samples\": [\n          \"positive\",\n          \"negative\"\n        ],\n        \"semantic_type\": \"\",\n        \"description\": \"\"\n      }\n    }\n  ]\n}"
            }
          },
          "metadata": {},
          "execution_count": 14
        }
      ]
    },
    {
      "cell_type": "code",
      "source": [
        "\"\"\"\n",
        "Removemos duplicatas exatas por (text, label) para evitar contagem dupla de exemplos idênticos.\n",
        "Em seguida, auditamos textos repetidos com rótulos conflitantes, apenas reportando sua frequência para decisão futura.\n",
        "O processo foi realizado antes da divisão treino/validação para mitigar vazamento de dados.\n",
        "\"\"\"\n",
        "before = len(df)\n",
        "\n",
        "# 1) Remover duplicatas exatas (texto + rótulo)\n",
        "df = df.drop_duplicates(subset=['text', 'label']).reset_index(drop=True)\n",
        "\n",
        "# 2) Auditar conflitos de rótulo para o mesmo texto\n",
        "conflict_mask = df.duplicated(subset=['text'], keep=False)\n",
        "conflicts = (df.loc[conflict_mask]\n",
        "               .groupby('text')['label']\n",
        "               .nunique()\n",
        "               .reset_index(name='n_labels'))\n",
        "n_conflicts = (conflicts['n_labels'] > 1).sum()\n",
        "\n",
        "after = len(df)\n",
        "print(f\"Removidas {before - after} duplicatas exatas (texto+label).\")\n",
        "print(f\"Textos com rótulos conflitantes: {n_conflicts}\")"
      ],
      "metadata": {
        "colab": {
          "base_uri": "https://localhost:8080/"
        },
        "id": "Muc-8qL-pI7q",
        "outputId": "aec03d36-a285-453f-e46e-628dc676fcb4"
      },
      "id": "Muc-8qL-pI7q",
      "execution_count": 15,
      "outputs": [
        {
          "output_type": "stream",
          "name": "stdout",
          "text": [
            "Removidas 418 duplicatas exatas (texto+label).\n",
            "Textos com rótulos conflitantes: 0\n"
          ]
        }
      ]
    },
    {
      "cell_type": "markdown",
      "source": [
        "Identificamos 824 linhas pertencentes a 406 grupos de duplicatas exatas por (text,label). Mantivemos uma ocorrência por grupo e removemos 418 linhas duplicadas, antes do split de treino/validação (alguns grupos tinham mais de duas ocorrências)."
      ],
      "metadata": {
        "id": "UVMhrWTxtmTf"
      },
      "id": "UVMhrWTxtmTf"
    },
    {
      "cell_type": "code",
      "source": [
        "# Schema simples (contrato de dados)\n",
        "assert df['text'].map(lambda x: isinstance(x, str)).all(), \"Há linhas sem texto (não-string).\"\n",
        "assert set(df['label'].unique()) <= {'positive','negative'}, \"Labels fora do conjunto esperado.\"\n",
        "\n",
        "# Confirmação (só é executado se as verificações acima forem verdadeiras)\n",
        "print(\n",
        "    \"OK: schema verificado — coluna 'text' é string e 'label' contém apenas {'positive','negative'}.\\n\"\n",
        "    f\"Registros: {len(df)} | Distribuição de classes: {df['label'].value_counts().to_dict()}\"\n",
        ")\n",
        "\n",
        "# Salvar dataset limpo\n",
        "CSV_OUT = '/content/data-processed/imdb_clean.csv'\n",
        "os.makedirs('/content/data-processed', exist_ok=True)\n",
        "\n",
        "df_clean = df[['text','label']].copy()\n",
        "df_clean.to_csv(CSV_OUT, index=False)\n",
        "\n",
        "# feedback útil\n",
        "counts = df_clean['label'].value_counts().to_dict()\n",
        "print(f\"Salvo: {CSV_OUT} | Registros: {len(df_clean)} | Distribuição: {counts}\")"
      ],
      "metadata": {
        "colab": {
          "base_uri": "https://localhost:8080/"
        },
        "id": "DDeJua9fpnsk",
        "outputId": "e60595c9-4928-44ec-976b-785c25f16bda"
      },
      "id": "DDeJua9fpnsk",
      "execution_count": 28,
      "outputs": [
        {
          "output_type": "stream",
          "name": "stdout",
          "text": [
            "OK: schema verificado — coluna 'text' é string e 'label' contém apenas {'positive','negative'}.\n",
            "Registros: 49582 | Distribuição de classes: {'positive': 24884, 'negative': 24698}\n",
            "Salvo: /content/data-processed/imdb_clean.csv | Registros: 49582 | Distribuição: {'positive': 24884, 'negative': 24698}\n"
          ]
        }
      ]
    },
    {
      "cell_type": "code",
      "source": [
        "# === 4) Distribuição de classes ===\n",
        "counts = (df['label']\n",
        "          .value_counts()\n",
        "          .rename_axis('label')\n",
        "          .reset_index(name='count'))\n",
        "counts['pct'] = (counts['count'] / counts['count'].sum() * 100).round(2)\n",
        "print(counts)\n",
        "\n",
        "plt.figure(figsize=(5,3.5))\n",
        "ax = sns.barplot(data=counts, x='label', y='count')\n",
        "ax.set_title('Distribuição de classes (IMDb)')\n",
        "ax.set_xlabel('Classe'); ax.set_ylabel('Contagem')\n",
        "for p in ax.patches:\n",
        "    ax.annotate(f\"{p.get_height():.0f}\",\n",
        "                (p.get_x()+p.get_width()/2, p.get_height()),\n",
        "                ha='center', va='bottom', fontsize=9)\n",
        "plt.tight_layout(); plt.savefig('reports/class_balance.png', dpi=150)\n",
        "plt.show()"
      ],
      "metadata": {
        "colab": {
          "base_uri": "https://localhost:8080/",
          "height": 403
        },
        "id": "rsY8Y1ghyXTj",
        "outputId": "6befc3ac-7d3c-48e1-9cfa-22ada6e77b85"
      },
      "id": "rsY8Y1ghyXTj",
      "execution_count": 18,
      "outputs": [
        {
          "output_type": "stream",
          "name": "stdout",
          "text": [
            "      label  count    pct\n",
            "0  positive  24884  50.19\n",
            "1  negative  24698  49.81\n"
          ]
        },
        {
          "output_type": "display_data",
          "data": {
            "text/plain": [
              "<Figure size 500x350 with 1 Axes>"
            ],
            "image/png": "[encoded data removed]"
          },
          "metadata": {}
        }
      ]
    },
    {
      "cell_type": "code",
      "source": [
        "# === 5) Comprimento dos textos ===\n",
        "df['text_len'] = df['text'].str.split().str.len()\n",
        "print(df['text_len'].describe())\n",
        "\n",
        "plt.figure(figsize=(6,4))\n",
        "sns.histplot(df['text_len'], bins=40)\n",
        "plt.title('Comprimento dos reviews (nº de palavras)')\n",
        "plt.xlabel('Palavras'); plt.ylabel('Frequência')\n",
        "plt.tight_layout(); plt.savefig('reports/text_len_hist.png', dpi=150)\n",
        "plt.show()\n"
      ],
      "metadata": {
        "colab": {
          "base_uri": "https://localhost:8080/",
          "height": 557
        },
        "id": "GIVYFjYeyid1",
        "outputId": "7ddbc765-c019-4f31-dcd6-af60b5a59b0d"
      },
      "id": "GIVYFjYeyid1",
      "execution_count": 19,
      "outputs": [
        {
          "output_type": "stream",
          "name": "stdout",
          "text": [
            "count    49582.000000\n",
            "mean       231.350167\n",
            "std        171.542020\n",
            "min          4.000000\n",
            "25%        126.000000\n",
            "50%        173.000000\n",
            "75%        281.000000\n",
            "max       2470.000000\n",
            "Name: text_len, dtype: float64\n"
          ]
        },
        {
          "output_type": "display_data",
          "data": {
            "text/plain": [
              "<Figure size 600x400 with 1 Axes>"
            ],
            "image/png": "[encoded data removed]"
          },
          "metadata": {}
        }
      ]
    },
    {
      "cell_type": "code",
      "source": [
        "# === 6) Exemplos de linhas (1 pos, 1 neg, 1 mediano por comprimento) ===\n",
        "ex_pos = df[df['label']=='positive'].sample(1, random_state=RANDOM_STATE)['text'].iloc[0]\n",
        "ex_neg = df[df['label']=='negative'].sample(1, random_state=RANDOM_STATE)['text'].iloc[0]\n",
        "mid_idx = (df['text_len'] - df['text_len'].median()).abs().sort_values().index[0]\n",
        "ex_mid = df.loc[mid_idx, 'text']\n",
        "\n",
        "print(\"\\nEXEMPLO POSITIVO:\\n\", ex_pos[:140], \"\\n\")\n",
        "print(\"EXEMPLO NEGATIVO:\\n\", ex_neg[:140], \"\\n\")"
      ],
      "metadata": {
        "colab": {
          "base_uri": "https://localhost:8080/"
        },
        "id": "tAx4nDBGyxlc",
        "outputId": "61fa4bad-2a7b-47e0-b63a-a280e1d8c48b"
      },
      "id": "tAx4nDBGyxlc",
      "execution_count": 25,
      "outputs": [
        {
          "output_type": "stream",
          "name": "stdout",
          "text": [
            "\n",
            "EXEMPLO POSITIVO:\n",
            " Not since The Simpsons made it's debut has there been a sitcom that I didn't want to turn of in a matter of 2 minutes. It has of course been \n",
            "\n",
            "EXEMPLO NEGATIVO:\n",
            " I usually much prefer French movies over American ones, with explosions and car chases, but this movie was very disappointing. There is no w \n",
            "\n"
          ]
        }
      ]
    },
    {
      "cell_type": "code",
      "source": [
        "# === 7) Top termos por classe (limpeza simples) ===\n",
        "stop_en = set(stopwords.words('english'))\n",
        "\n",
        "def basic_clean(s: str):\n",
        "    s = s.lower()\n",
        "    s = re.sub(r'http\\S+|www\\.\\S+', ' ', s)     # URLs\n",
        "    s = re.sub(r'[^a-z\\s]', ' ', s)             # mantém só letras e espaço\n",
        "    toks = [w for w in s.split() if w not in stop_en and len(w) > 2]\n",
        "    return toks\n",
        "\n",
        "from collections import Counter\n",
        "\n",
        "def top_words(subdf, k=15, cap=20000):\n",
        "    c = Counter()\n",
        "    # limitar a cap linhas p/ rapidez (ajuste se quiser)\n",
        "    for t in subdf['text'].head(cap):\n",
        "        c.update(basic_clean(t))\n",
        "    top = pd.DataFrame(c.most_common(k), columns=['term','count'])\n",
        "    return top\n",
        "\n",
        "top_pos = top_words(df[df['label']=='positive'], k=15)\n",
        "top_neg = top_words(df[df['label']=='negative'], k=15)\n",
        "\n",
        "top_pos.to_csv('reports/top_terms_positive.csv', index=False)\n",
        "top_neg.to_csv('reports/top_terms_negative.csv', index=False)\n",
        "print(\"\\nTop termos (positive):\\n\", top_pos.head())\n",
        "print(\"\\nTop termos (negative):\\n\", top_neg.head())"
      ],
      "metadata": {
        "colab": {
          "base_uri": "https://localhost:8080/"
        },
        "id": "8lFHoR8Q12m_",
        "outputId": "760ceee9-2e4d-4693-c5f9-1f649c0d715a"
      },
      "id": "8lFHoR8Q12m_",
      "execution_count": 26,
      "outputs": [
        {
          "output_type": "stream",
          "name": "stdout",
          "text": [
            "\n",
            "Top termos (positive):\n",
            "     term  count\n",
            "0   film  33575\n",
            "1  movie  30459\n",
            "2    one  21849\n",
            "3   like  14104\n",
            "4   good  12107\n",
            "\n",
            "Top termos (negative):\n",
            "     term  count\n",
            "0  movie  40147\n",
            "1   film  30079\n",
            "2    one  20937\n",
            "3   like  17936\n",
            "4   even  12278\n"
          ]
        }
      ]
    },
    {
      "cell_type": "code",
      "source": [
        "# Plots dos top termos\n",
        "plt.figure(figsize=(7,4))\n",
        "sns.barplot(data=top_pos, x='count', y='term')\n",
        "plt.title('Top termos - classe positive')\n",
        "plt.xlabel('Contagem'); plt.ylabel('Termo')\n",
        "plt.tight_layout(); plt.savefig('reports/top_terms_positive.png', dpi=150)\n",
        "plt.show()\n",
        "\n",
        "plt.figure(figsize=(7,4))\n",
        "sns.barplot(data=top_neg, x='count', y='term')\n",
        "plt.title('Top termos - classe negative')\n",
        "plt.xlabel('Contagem'); plt.ylabel('Termo')\n",
        "plt.tight_layout(); plt.savefig('reports/top_terms_negative.png', dpi=150)\n",
        "plt.show()"
      ],
      "metadata": {
        "colab": {
          "base_uri": "https://localhost:8080/",
          "height": 785
        },
        "id": "UrzeEAzZ1468",
        "outputId": "b530ae54-5c05-4ff7-e7ce-3a5c06e7d7a1"
      },
      "id": "UrzeEAzZ1468",
      "execution_count": 27,
      "outputs": [
        {
          "output_type": "display_data",
          "data": {
            "text/plain": [
              "<Figure size 700x400 with 1 Axes>"
            ],
            "image/png": "[encoded data removed]"
          },
          "metadata": {}
        },
        {
          "output_type": "display_data",
          "data": {
            "text/plain": [
              "<Figure size 700x400 with 1 Axes>"
            ],
            "image/png": "[encoded data removed]"
          },
          "metadata": {}
        }
      ]
    }
  ],
  "metadata": {
    "language_info": {
      "name": "python"
    },
    "colab": {
      "provenance": []
    },
    "kernelspec": {
      "name": "python3",
      "display_name": "Python 3"
    }
  },
  "nbformat": 4,
  "nbformat_minor": 5
}